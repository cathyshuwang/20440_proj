{
 "cells": [
  {
   "cell_type": "code",
   "execution_count": null,
   "metadata": {},
   "outputs": [],
   "source": [
    "import pandas as pd \n",
    "import numpy as np\n",
    "import seaborn as sns\n",
    "from matplotlib import pyplot as plt\n",
    "from IPython.display import display\n",
    "\n",
    "from sklearn.preprocessing import StandardScaler \n",
    "from sklearn.preprocessing import RobustScaler\n",
    "from sklearn.decomposition import PCA \n",
    "from sklearn.cluster import KMeans\n",
    "from sklearn import metrics\n",
    "from sklearn.metrics import silhouette_samples, silhouette_score\n",
    "from sklearn.datasets import fetch_openml \n",
    "\n",
    "from sklearn.metrics import pairwise_distances\n",
    "from scipy.spatial.distance import squareform\n",
    "from sklearn.manifold import TSNE"
   ]
  },
  {
   "cell_type": "code",
   "execution_count": null,
   "metadata": {},
   "outputs": [],
   "source": [
    "\n",
    "sns.set(rc={'figure.figsize':(11.7,8.27)})\n"
   ]
  },
  {
   "cell_type": "code",
   "execution_count": null,
   "metadata": {},
   "outputs": [],
   "source": [
    "from matplotlib.pyplot import cm\n"
   ]
  },
  {
   "cell_type": "code",
   "execution_count": null,
   "metadata": {},
   "outputs": [],
   "source": [
    "#import data \n",
    "\n",
    "TB_sarc_df = pd.read_csv('TB_sarc_overlap_nodum.csv')\n",
    "\n",
    "#Disease column \n",
    "# 0 = sarcoidosis \n",
    "# 1 = Tuberculosis\n",
    "\n",
    "df_TB_sarc = TB_sarc_df.iloc[:,3:35]\n",
    "df_TBsarc = df_TB_sarc.drop('Tissue', axis = 1)\n",
    "df_TBsarc = df_TBsarc.drop('lineage', axis = 1)\n",
    "df_TBsarc = df_TBsarc.drop('cell_lin', axis = 1)\n",
    "\n",
    "\n",
    "Bcell_df = pd.read_csv('B_cellsv1.csv')\n",
    "Endo_df = pd.read_csv('Endothelial_cellsv1.csv')\n",
    "macro_df = pd.read_csv('Macrophagesv1.csv')\n",
    "mono_df = pd.read_csv('Monocytesv1.csv')\n",
    "Tcell_df = pd.read_csv('T_cellsv1.csv')\n",
    "\n",
    "\n"
   ]
  },
  {
   "cell_type": "code",
   "execution_count": null,
   "metadata": {
    "scrolled": true
   },
   "outputs": [],
   "source": [
    "display(df_TBsarc)"
   ]
  },
  {
   "cell_type": "code",
   "execution_count": null,
   "metadata": {},
   "outputs": [],
   "source": [
    "#Make copy of each data frame to have original as reference\n",
    "df_Bcell = Bcell_df.copy()\n",
    "df_Tcell = Tcell_df.copy()\n",
    "df_Endo = Endo_df.copy()\n",
    "df_mono = mono_df.copy()\n",
    "df_macro = macro_df.copy()\n",
    "\n"
   ]
  },
  {
   "cell_type": "code",
   "execution_count": null,
   "metadata": {
    "scrolled": true
   },
   "outputs": [],
   "source": [
    "#Drop columns without protein abundance data in prepartion for tsne\n",
    "df_Bcell.drop('Disease', axis=1)\n",
    "\n",
    "df_Tcell_num = df_Tcell.drop('Disease', axis = 1)\n",
    "df_Tcell_num = df_Tcell_num.drop('cell_type', axis = 1)\n",
    "\n",
    "df_Endo_num = df_Endo.drop('Disease', axis = 1)\n",
    "#df_Endo_num = df_Endo_num.drop('cell_type', axis = 1)\n",
    "\n",
    "df_mono_num = df_mono.drop('Disease', axis = 1)\n",
    "df_mono_num = df_mono_num.drop('cell_type', axis = 1)\n",
    "\n",
    "\n",
    "df_macro_num = df_macro.drop('Disease', axis = 1)\n",
    "df_macro_num = df_macro_num.drop('cell_type', axis = 1)"
   ]
  },
  {
   "cell_type": "code",
   "execution_count": null,
   "metadata": {},
   "outputs": [],
   "source": [
    "display(df_mono_num)"
   ]
  },
  {
   "cell_type": "code",
   "execution_count": null,
   "metadata": {
    "scrolled": true
   },
   "outputs": [],
   "source": [
    "#tsne - B cells\n",
    "#default tsne settings used for all cell types: \n",
    "#2 components and 30 perplexity\n",
    "\n",
    "tsne = TSNE()\n",
    "\n",
    "B_cell_tsne = tsne.fit_transform(df_Bcell)\n",
    "\n"
   ]
  },
  {
   "cell_type": "code",
   "execution_count": null,
   "metadata": {
    "scrolled": false
   },
   "outputs": [],
   "source": [
    "#plot B cell tsne with disease annotations\n",
    "disease_bcell = Bcell_df['Disease']\n",
    "\n",
    "\n",
    "ax = sns.scatterplot(B_cell_tsne[:,0], B_cell_tsne[:,1], hue=disease_bcell)\n",
    "\n",
    "custom = [Line2D([], [], marker='.', color='blue', linestyle='None'),\n",
    "          Line2D([], [], marker='.', color='orange', linestyle='None')]\n",
    "\n",
    "ax.legend(custom, ['Sarcoidosis', 'Tuberculosis'], loc='lower right')\n",
    "\n",
    "plt.xlabel('t-SNE 1', fontsize = 18)\n",
    "plt.ylabel('t-SNE 2', fontsize = 18)\n",
    "plt.title('B cells', fontsize = 28)\n",
    "plt.savefig('B_cell_tSNE.png')"
   ]
  },
  {
   "cell_type": "code",
   "execution_count": null,
   "metadata": {},
   "outputs": [],
   "source": [
    "np.savetxt(\"Bcell_tsne_v3\", B_cell_tsne, delimiter=\",\")"
   ]
  },
  {
   "cell_type": "code",
   "execution_count": null,
   "metadata": {},
   "outputs": [],
   "source": [
    "#tsne - T cells\n",
    "#default tsne settings used for all cell types: \n",
    "#2 components and 30 perplexity\n",
    "\n",
    "tsne = TSNE()\n",
    "\n",
    "T_cell_tsne = tsne.fit_transform(df_Tcell_num)"
   ]
  },
  {
   "cell_type": "code",
   "execution_count": null,
   "metadata": {},
   "outputs": [],
   "source": [
    "#plot T cell tsne with disease annotations\n",
    "\n",
    "disease_tcell = Tcell_df['Disease']\n",
    "\n",
    "\n",
    "ax = sns.scatterplot(T_cell_tsne[:,0], T_cell_tsne[:,1],alpha = 0.4, hue=disease_tcell)\n",
    "\n",
    "custom = [Line2D([], [], marker='.', color='blue', linestyle='None'),\n",
    "          Line2D([], [], marker='.', color='orange', linestyle='None')]\n",
    "\n",
    "ax.legend(custom, ['Sarcoidosis', 'Tuberculosis'], loc='lower right')\n",
    "\n",
    "plt.xlabel('t-SNE 1', fontsize = 18)\n",
    "plt.ylabel('t-SNE 2', fontsize = 18)\n",
    "plt.title('T cells', fontsize=28)\n",
    "plt.savefig('T_cell_tsne.png')"
   ]
  },
  {
   "cell_type": "code",
   "execution_count": null,
   "metadata": {},
   "outputs": [],
   "source": [
    "np.savetxt(\"Tcell_tsne_v3\", T_cell_tsne, delimiter=\",\")"
   ]
  },
  {
   "cell_type": "code",
   "execution_count": null,
   "metadata": {},
   "outputs": [],
   "source": [
    "#tsne - Endothelial cells\n",
    "\n",
    "\n",
    "tsne = TSNE()\n",
    "\n",
    "Endo_tsne = tsne.fit_transform(df_Endo_num)"
   ]
  },
  {
   "cell_type": "code",
   "execution_count": null,
   "metadata": {
    "scrolled": false
   },
   "outputs": [],
   "source": [
    "#plot of endothelial cell tsne with disease annotations\n",
    "\n",
    "disease_endo_cell = Endo_df['Disease']\n",
    "\n",
    "ax = sns.scatterplot(Endo_tsne[:,0], Endo_tsne[:,1],alpha = 0.7, hue=disease_endo_cell) \n",
    "\n",
    "custom = [Line2D([], [], marker='.', color='blue', linestyle='None'),\n",
    "          Line2D([], [], marker='.', color='orange', linestyle='None')]\n",
    "\n",
    "ax.legend(custom, ['Sarcoidosis', 'Tuberculosis'], loc='lower right')\n",
    "\n",
    "plt.xlabel('t-SNE 1', fontsize =18)\n",
    "plt.ylabel('t-SNE 2', fontsize=18)\n",
    "plt.title('Endothelial cells', fontsize=28)\n",
    "plt.savefig('Endothelial_cell_tsne.png')"
   ]
  },
  {
   "cell_type": "code",
   "execution_count": null,
   "metadata": {},
   "outputs": [],
   "source": [
    "np.savetxt(\"endo_cell_tsne_v3\", Endo_tsne, delimiter=\",\")"
   ]
  },
  {
   "cell_type": "code",
   "execution_count": null,
   "metadata": {},
   "outputs": [],
   "source": [
    "#tsne - Moncytes\n",
    "\n",
    "tsne = TSNE()\n",
    "\n",
    "mono_tsne = tsne.fit_transform(df_mono_num)"
   ]
  },
  {
   "cell_type": "code",
   "execution_count": null,
   "metadata": {},
   "outputs": [],
   "source": [
    "#Plot of monocyte tsne with disease annotations\n",
    "\n",
    "disease_mono_cell = mono_df['Disease']\n",
    "\n",
    "ax = sns.scatterplot(mono_tsne[:,0], mono_tsne[:,1],alpha=0.4, hue=disease_mono_cell)\n",
    "\n",
    "custom = [Line2D([], [], marker='.', color='blue', linestyle='None'),\n",
    "          Line2D([], [], marker='.', color='orange', linestyle='None')]\n",
    "\n",
    "ax.legend(custom, ['Sarcoidosis', 'Tuberculosis'], loc='lower right')\n",
    "\n",
    "plt.xlabel('t-SNE 1', fontsize=18)\n",
    "plt.ylabel('t-SNE 2', fontsize=18)\n",
    "plt.title('Monocytes', fontsize=28)\n",
    "plt.savefig('monocyte_tsne.png')"
   ]
  },
  {
   "cell_type": "code",
   "execution_count": null,
   "metadata": {},
   "outputs": [],
   "source": [
    "np.savetxt(\"mono_tsne_v3\", mono_tsne, delimiter=\",\")"
   ]
  },
  {
   "cell_type": "code",
   "execution_count": null,
   "metadata": {},
   "outputs": [],
   "source": [
    "#tsne - Macrophages\n",
    "\n",
    "tsne = TSNE()\n",
    "\n",
    "macro_tsne = tsne.fit_transform(df_macro_num)"
   ]
  },
  {
   "cell_type": "code",
   "execution_count": null,
   "metadata": {},
   "outputs": [],
   "source": [
    "#plot of macrophage tsne with disease annotation\n",
    "\n",
    "disease_macro_cell = macro_df['Disease']\n",
    "\n",
    "ax = sns.scatterplot(macro_tsne[:,0], macro_tsne[:,1],alpha=0.4, hue=disease_macro_cell) \n",
    "\n",
    "custom = [Line2D([], [], marker='.', color='blue', linestyle='None'),\n",
    "          Line2D([], [], marker='.', color='orange', linestyle='None')]\n",
    "\n",
    "ax.legend(custom, ['Sarcoidosis', 'Tuberculosis'], loc='lower right')\n",
    "\n",
    "plt.xlabel('t-SNE 1',fontsize=18)\n",
    "plt.ylabel('t-SNE 2',fontsize=18)\n",
    "plt.title('Macrophages', fontsize=28)\n",
    "plt.savefig('macrophage_tsne.png')"
   ]
  },
  {
   "cell_type": "code",
   "execution_count": null,
   "metadata": {},
   "outputs": [],
   "source": [
    "np.savetxt(\"macro_tsne_v3\", macro_tsne, delimiter=\",\")"
   ]
  },
  {
   "cell_type": "code",
   "execution_count": null,
   "metadata": {
    "scrolled": true
   },
   "outputs": [],
   "source": [
    "#Clean up sarc and TB overlap data \n",
    "#display(TB_sarc_df)\n",
    "\n",
    "df_TB_sarc = TB_sarc_df.iloc[:,3:30]\n",
    "display(df_TB_sarc)"
   ]
  },
  {
   "cell_type": "code",
   "execution_count": null,
   "metadata": {},
   "outputs": [],
   "source": [
    "#sarc and TB tsne\n",
    "\n",
    "tsne = TSNE()\n",
    "\n",
    "TB_sarc_tsne = tsne.fit_transform(df_TB_sarc)"
   ]
  },
  {
   "cell_type": "code",
   "execution_count": null,
   "metadata": {},
   "outputs": [],
   "source": [
    "np.savetxt(\"TB_sarc_tsne_v3\", TB_sarc_tsne, delimiter=\",\")"
   ]
  },
  {
   "cell_type": "code",
   "execution_count": null,
   "metadata": {
    "scrolled": false
   },
   "outputs": [],
   "source": [
    "#sarc and TB tsne plot \n",
    "#disease annotations\n",
    "\n",
    "TB_sarc_disease = TB_sarc_df['Disease']\n",
    "\n",
    "ax = sns.scatterplot(TB_sarc_tsne[:,0], TB_sarc_tsne[:,1], alpha=0.4,hue=TB_sarc_disease) \n",
    "\n",
    "custom = [Line2D([], [], marker='.', color='blue', linestyle='None'),\n",
    "          Line2D([], [], marker='.', color='orange', linestyle='None')]\n",
    "\n",
    "ax.legend(custom, ['Sarcoidosis', 'Tuberculosis'], loc='lower right')\n",
    "\n",
    "plt.xlabel('t-SNE 1', fontsize=18)\n",
    "plt.ylabel('t-SNE 2', fontsize=18)\n",
    "plt.title('All Cell Types', fontsize=28) \n",
    "plt.savefig('all_cell_types_tsne.png')"
   ]
  },
  {
   "cell_type": "code",
   "execution_count": null,
   "metadata": {},
   "outputs": [],
   "source": [
    "#scattplot of tnse data to color by sample ID in case there is a patient dependency in data \n",
    "\n",
    "TBsarc_sampleID = TB_sarc_df['SampleID']\n",
    "\n",
    "sns.scatterplot(TB_sarc_tsne[:,0], TB_sarc_tsne[:,1],alpha=0.4, hue=TBsarc_sampleID) \n",
    "\n",
    "plt.xlabel('t-SNE 1', fontsize=18)\n",
    "plt.ylabel('t-SNE 2', fontsize=18)\n",
    "plt.title('t-SNE for protein signatures in TB and Sarcoidosis - by sample ID', fontsize=20)\n",
    "plt.savefig('sample_id_tsne.png')"
   ]
  }
 ],
 "metadata": {
  "kernelspec": {
   "display_name": "Python 3",
   "language": "python",
   "name": "python3"
  },
  "language_info": {
   "codemirror_mode": {
    "name": "ipython",
    "version": 3
   },
   "file_extension": ".py",
   "mimetype": "text/x-python",
   "name": "python",
   "nbconvert_exporter": "python",
   "pygments_lexer": "ipython3",
   "version": "3.8.3"
  }
 },
 "nbformat": 4,
 "nbformat_minor": 2
}
