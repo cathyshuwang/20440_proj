{
 "cells": [
  {
   "cell_type": "code",
   "execution_count": 1,
   "metadata": {},
   "outputs": [],
   "source": [
    "import pandas as pd\n",
    "import numpy as np\n",
    "import matplotlib.pyplot as plt\n",
    "import seaborn as sns\n",
    "\n",
    "from sklearn.decomposition import PCA\n",
    "from sklearn import metrics\n",
    "from sklearn.model_selection import train_test_split\n",
    "from sklearn.ensemble import RandomForestClassifier\n",
    "from sklearn import preprocessing\n",
    "\n",
    "from sklearn.model_selection import GridSearchCV"
   ]
  },
  {
   "cell_type": "code",
   "execution_count": 2,
   "metadata": {},
   "outputs": [
    {
     "data": {
      "text/html": [
       "<div>\n",
       "<style scoped>\n",
       "    .dataframe tbody tr th:only-of-type {\n",
       "        vertical-align: middle;\n",
       "    }\n",
       "\n",
       "    .dataframe tbody tr th {\n",
       "        vertical-align: top;\n",
       "    }\n",
       "\n",
       "    .dataframe thead th {\n",
       "        text-align: right;\n",
       "    }\n",
       "</style>\n",
       "<table border=\"1\" class=\"dataframe\">\n",
       "  <thead>\n",
       "    <tr style=\"text-align: right;\">\n",
       "      <th></th>\n",
       "      <th>ID</th>\n",
       "    </tr>\n",
       "  </thead>\n",
       "  <tbody>\n",
       "    <tr>\n",
       "      <th>0</th>\n",
       "      <td>P06493</td>\n",
       "    </tr>\n",
       "    <tr>\n",
       "      <th>1</th>\n",
       "      <td>P35237</td>\n",
       "    </tr>\n",
       "    <tr>\n",
       "      <th>2</th>\n",
       "      <td>P02655</td>\n",
       "    </tr>\n",
       "    <tr>\n",
       "      <th>3</th>\n",
       "      <td>Q00341</td>\n",
       "    </tr>\n",
       "    <tr>\n",
       "      <th>4</th>\n",
       "      <td>P46781</td>\n",
       "    </tr>\n",
       "    <tr>\n",
       "      <th>...</th>\n",
       "      <td>...</td>\n",
       "    </tr>\n",
       "    <tr>\n",
       "      <th>3909</th>\n",
       "      <td>R4GMX3</td>\n",
       "    </tr>\n",
       "    <tr>\n",
       "      <th>3910</th>\n",
       "      <td>Q5VZ89</td>\n",
       "    </tr>\n",
       "    <tr>\n",
       "      <th>3911</th>\n",
       "      <td>S4R303</td>\n",
       "    </tr>\n",
       "    <tr>\n",
       "      <th>3912</th>\n",
       "      <td>V9GYT7</td>\n",
       "    </tr>\n",
       "    <tr>\n",
       "      <th>3913</th>\n",
       "      <td>Q03519</td>\n",
       "    </tr>\n",
       "  </tbody>\n",
       "</table>\n",
       "<p>3914 rows × 1 columns</p>\n",
       "</div>"
      ],
      "text/plain": [
       "          ID\n",
       "0     P06493\n",
       "1     P35237\n",
       "2     P02655\n",
       "3     Q00341\n",
       "4     P46781\n",
       "...      ...\n",
       "3909  R4GMX3\n",
       "3910  Q5VZ89\n",
       "3911  S4R303\n",
       "3912  V9GYT7\n",
       "3913  Q03519\n",
       "\n",
       "[3914 rows x 1 columns]"
      ]
     },
     "execution_count": 2,
     "metadata": {},
     "output_type": "execute_result"
    }
   ],
   "source": [
    "# load list of protein IDs as dataframe\n",
    "ID_file = 'data/processed/gastric_ID_list.csv'\n",
    "gastric_ID = pd.read_csv(ID_file, index_col=0)\n",
    "gastric_ID.reset_index(drop=True, inplace=True)\n",
    "gastric_ID"
   ]
  },
  {
   "cell_type": "code",
   "execution_count": 22,
   "metadata": {},
   "outputs": [],
   "source": [
    "file = 'data/processed/gastric_clean_unst.csv'"
   ]
  },
  {
   "cell_type": "code",
   "execution_count": 23,
   "metadata": {},
   "outputs": [
    {
     "data": {
      "text/html": [
       "<div>\n",
       "<style scoped>\n",
       "    .dataframe tbody tr th:only-of-type {\n",
       "        vertical-align: middle;\n",
       "    }\n",
       "\n",
       "    .dataframe tbody tr th {\n",
       "        vertical-align: top;\n",
       "    }\n",
       "\n",
       "    .dataframe thead th {\n",
       "        text-align: right;\n",
       "    }\n",
       "</style>\n",
       "<table border=\"1\" class=\"dataframe\">\n",
       "  <thead>\n",
       "    <tr style=\"text-align: right;\">\n",
       "      <th></th>\n",
       "      <th>NC1 Log2</th>\n",
       "      <th>NC2 Log2</th>\n",
       "      <th>NC3 Log2</th>\n",
       "      <th>NC4 Log2</th>\n",
       "      <th>GC1 Log2</th>\n",
       "      <th>GC2 Log2</th>\n",
       "      <th>GC3 Log2</th>\n",
       "      <th>GC4 Log2</th>\n",
       "      <th>PL1 Log2</th>\n",
       "      <th>PL2 Log2</th>\n",
       "      <th>...</th>\n",
       "      <th>RNA degradation</th>\n",
       "      <th>Mismatch repair</th>\n",
       "      <th>Stomach specific</th>\n",
       "      <th>Mitochondrion</th>\n",
       "      <th>Cytoplasm</th>\n",
       "      <th>Extracellular exosome</th>\n",
       "      <th>Membrane</th>\n",
       "      <th>Nucleus</th>\n",
       "      <th>Endoplasmic reticulum</th>\n",
       "      <th>Golgi apparatus</th>\n",
       "    </tr>\n",
       "  </thead>\n",
       "  <tbody>\n",
       "    <tr>\n",
       "      <th>0</th>\n",
       "      <td>14.141872</td>\n",
       "      <td>14.107314</td>\n",
       "      <td>13.862564</td>\n",
       "      <td>13.757528</td>\n",
       "      <td>14.283957</td>\n",
       "      <td>13.844870</td>\n",
       "      <td>14.446062</td>\n",
       "      <td>14.238953</td>\n",
       "      <td>14.157263</td>\n",
       "      <td>13.412358</td>\n",
       "      <td>...</td>\n",
       "      <td>0</td>\n",
       "      <td>0</td>\n",
       "      <td>0</td>\n",
       "      <td>1</td>\n",
       "      <td>1</td>\n",
       "      <td>1</td>\n",
       "      <td>1</td>\n",
       "      <td>1</td>\n",
       "      <td>0</td>\n",
       "      <td>0</td>\n",
       "    </tr>\n",
       "    <tr>\n",
       "      <th>1</th>\n",
       "      <td>18.189801</td>\n",
       "      <td>18.202496</td>\n",
       "      <td>18.049074</td>\n",
       "      <td>18.069828</td>\n",
       "      <td>18.372977</td>\n",
       "      <td>18.240611</td>\n",
       "      <td>18.414903</td>\n",
       "      <td>18.385577</td>\n",
       "      <td>18.464838</td>\n",
       "      <td>18.382029</td>\n",
       "      <td>...</td>\n",
       "      <td>0</td>\n",
       "      <td>0</td>\n",
       "      <td>0</td>\n",
       "      <td>0</td>\n",
       "      <td>1</td>\n",
       "      <td>1</td>\n",
       "      <td>0</td>\n",
       "      <td>1</td>\n",
       "      <td>0</td>\n",
       "      <td>0</td>\n",
       "    </tr>\n",
       "    <tr>\n",
       "      <th>2</th>\n",
       "      <td>15.370743</td>\n",
       "      <td>15.220339</td>\n",
       "      <td>14.877490</td>\n",
       "      <td>14.877915</td>\n",
       "      <td>15.250045</td>\n",
       "      <td>15.182754</td>\n",
       "      <td>15.617631</td>\n",
       "      <td>15.404629</td>\n",
       "      <td>15.313874</td>\n",
       "      <td>14.679077</td>\n",
       "      <td>...</td>\n",
       "      <td>0</td>\n",
       "      <td>0</td>\n",
       "      <td>0</td>\n",
       "      <td>0</td>\n",
       "      <td>0</td>\n",
       "      <td>1</td>\n",
       "      <td>0</td>\n",
       "      <td>0</td>\n",
       "      <td>0</td>\n",
       "      <td>0</td>\n",
       "    </tr>\n",
       "    <tr>\n",
       "      <th>3</th>\n",
       "      <td>20.695419</td>\n",
       "      <td>20.764910</td>\n",
       "      <td>20.609847</td>\n",
       "      <td>20.648786</td>\n",
       "      <td>20.419828</td>\n",
       "      <td>20.184950</td>\n",
       "      <td>20.393157</td>\n",
       "      <td>20.341481</td>\n",
       "      <td>20.694539</td>\n",
       "      <td>20.345622</td>\n",
       "      <td>...</td>\n",
       "      <td>0</td>\n",
       "      <td>0</td>\n",
       "      <td>0</td>\n",
       "      <td>0</td>\n",
       "      <td>1</td>\n",
       "      <td>0</td>\n",
       "      <td>0</td>\n",
       "      <td>1</td>\n",
       "      <td>0</td>\n",
       "      <td>0</td>\n",
       "    </tr>\n",
       "    <tr>\n",
       "      <th>4</th>\n",
       "      <td>19.076272</td>\n",
       "      <td>19.118719</td>\n",
       "      <td>19.159973</td>\n",
       "      <td>19.142240</td>\n",
       "      <td>18.936441</td>\n",
       "      <td>18.792552</td>\n",
       "      <td>18.894393</td>\n",
       "      <td>18.742887</td>\n",
       "      <td>18.848415</td>\n",
       "      <td>18.776311</td>\n",
       "      <td>...</td>\n",
       "      <td>0</td>\n",
       "      <td>0</td>\n",
       "      <td>0</td>\n",
       "      <td>0</td>\n",
       "      <td>1</td>\n",
       "      <td>1</td>\n",
       "      <td>1</td>\n",
       "      <td>1</td>\n",
       "      <td>0</td>\n",
       "      <td>0</td>\n",
       "    </tr>\n",
       "    <tr>\n",
       "      <th>...</th>\n",
       "      <td>...</td>\n",
       "      <td>...</td>\n",
       "      <td>...</td>\n",
       "      <td>...</td>\n",
       "      <td>...</td>\n",
       "      <td>...</td>\n",
       "      <td>...</td>\n",
       "      <td>...</td>\n",
       "      <td>...</td>\n",
       "      <td>...</td>\n",
       "      <td>...</td>\n",
       "      <td>...</td>\n",
       "      <td>...</td>\n",
       "      <td>...</td>\n",
       "      <td>...</td>\n",
       "      <td>...</td>\n",
       "      <td>...</td>\n",
       "      <td>...</td>\n",
       "      <td>...</td>\n",
       "      <td>...</td>\n",
       "      <td>...</td>\n",
       "    </tr>\n",
       "    <tr>\n",
       "      <th>3909</th>\n",
       "      <td>12.901462</td>\n",
       "      <td>13.211006</td>\n",
       "      <td>13.401413</td>\n",
       "      <td>13.283953</td>\n",
       "      <td>13.499713</td>\n",
       "      <td>13.480609</td>\n",
       "      <td>13.207380</td>\n",
       "      <td>13.471890</td>\n",
       "      <td>13.221693</td>\n",
       "      <td>13.314391</td>\n",
       "      <td>...</td>\n",
       "      <td>0</td>\n",
       "      <td>0</td>\n",
       "      <td>0</td>\n",
       "      <td>0</td>\n",
       "      <td>1</td>\n",
       "      <td>0</td>\n",
       "      <td>0</td>\n",
       "      <td>1</td>\n",
       "      <td>0</td>\n",
       "      <td>0</td>\n",
       "    </tr>\n",
       "    <tr>\n",
       "      <th>3910</th>\n",
       "      <td>14.153375</td>\n",
       "      <td>14.074614</td>\n",
       "      <td>14.294366</td>\n",
       "      <td>14.275029</td>\n",
       "      <td>14.141097</td>\n",
       "      <td>14.475560</td>\n",
       "      <td>14.173025</td>\n",
       "      <td>14.205150</td>\n",
       "      <td>14.154766</td>\n",
       "      <td>14.456927</td>\n",
       "      <td>...</td>\n",
       "      <td>0</td>\n",
       "      <td>0</td>\n",
       "      <td>0</td>\n",
       "      <td>0</td>\n",
       "      <td>0</td>\n",
       "      <td>0</td>\n",
       "      <td>0</td>\n",
       "      <td>0</td>\n",
       "      <td>0</td>\n",
       "      <td>0</td>\n",
       "    </tr>\n",
       "    <tr>\n",
       "      <th>3911</th>\n",
       "      <td>14.537214</td>\n",
       "      <td>14.515092</td>\n",
       "      <td>14.198650</td>\n",
       "      <td>14.548186</td>\n",
       "      <td>13.307382</td>\n",
       "      <td>13.813228</td>\n",
       "      <td>13.612146</td>\n",
       "      <td>13.882917</td>\n",
       "      <td>14.146743</td>\n",
       "      <td>14.460718</td>\n",
       "      <td>...</td>\n",
       "      <td>0</td>\n",
       "      <td>0</td>\n",
       "      <td>0</td>\n",
       "      <td>0</td>\n",
       "      <td>1</td>\n",
       "      <td>0</td>\n",
       "      <td>0</td>\n",
       "      <td>1</td>\n",
       "      <td>0</td>\n",
       "      <td>0</td>\n",
       "    </tr>\n",
       "    <tr>\n",
       "      <th>3912</th>\n",
       "      <td>13.652200</td>\n",
       "      <td>13.503825</td>\n",
       "      <td>12.866414</td>\n",
       "      <td>13.433816</td>\n",
       "      <td>13.270009</td>\n",
       "      <td>12.735903</td>\n",
       "      <td>13.123058</td>\n",
       "      <td>13.411304</td>\n",
       "      <td>13.479893</td>\n",
       "      <td>12.886742</td>\n",
       "      <td>...</td>\n",
       "      <td>0</td>\n",
       "      <td>0</td>\n",
       "      <td>0</td>\n",
       "      <td>0</td>\n",
       "      <td>0</td>\n",
       "      <td>0</td>\n",
       "      <td>0</td>\n",
       "      <td>1</td>\n",
       "      <td>0</td>\n",
       "      <td>0</td>\n",
       "    </tr>\n",
       "    <tr>\n",
       "      <th>3913</th>\n",
       "      <td>16.352512</td>\n",
       "      <td>16.393447</td>\n",
       "      <td>16.436029</td>\n",
       "      <td>16.495736</td>\n",
       "      <td>16.188035</td>\n",
       "      <td>16.363108</td>\n",
       "      <td>16.356790</td>\n",
       "      <td>16.357408</td>\n",
       "      <td>16.437476</td>\n",
       "      <td>16.629294</td>\n",
       "      <td>...</td>\n",
       "      <td>0</td>\n",
       "      <td>0</td>\n",
       "      <td>0</td>\n",
       "      <td>0</td>\n",
       "      <td>0</td>\n",
       "      <td>0</td>\n",
       "      <td>0</td>\n",
       "      <td>0</td>\n",
       "      <td>0</td>\n",
       "      <td>0</td>\n",
       "    </tr>\n",
       "  </tbody>\n",
       "</table>\n",
       "<p>3914 rows × 46 columns</p>\n",
       "</div>"
      ],
      "text/plain": [
       "       NC1 Log2   NC2 Log2   NC3 Log2   NC4 Log2   GC1 Log2   GC2 Log2  \\\n",
       "0     14.141872  14.107314  13.862564  13.757528  14.283957  13.844870   \n",
       "1     18.189801  18.202496  18.049074  18.069828  18.372977  18.240611   \n",
       "2     15.370743  15.220339  14.877490  14.877915  15.250045  15.182754   \n",
       "3     20.695419  20.764910  20.609847  20.648786  20.419828  20.184950   \n",
       "4     19.076272  19.118719  19.159973  19.142240  18.936441  18.792552   \n",
       "...         ...        ...        ...        ...        ...        ...   \n",
       "3909  12.901462  13.211006  13.401413  13.283953  13.499713  13.480609   \n",
       "3910  14.153375  14.074614  14.294366  14.275029  14.141097  14.475560   \n",
       "3911  14.537214  14.515092  14.198650  14.548186  13.307382  13.813228   \n",
       "3912  13.652200  13.503825  12.866414  13.433816  13.270009  12.735903   \n",
       "3913  16.352512  16.393447  16.436029  16.495736  16.188035  16.363108   \n",
       "\n",
       "       GC3 Log2   GC4 Log2   PL1 Log2   PL2 Log2  ...  RNA degradation  \\\n",
       "0     14.446062  14.238953  14.157263  13.412358  ...                0   \n",
       "1     18.414903  18.385577  18.464838  18.382029  ...                0   \n",
       "2     15.617631  15.404629  15.313874  14.679077  ...                0   \n",
       "3     20.393157  20.341481  20.694539  20.345622  ...                0   \n",
       "4     18.894393  18.742887  18.848415  18.776311  ...                0   \n",
       "...         ...        ...        ...        ...  ...              ...   \n",
       "3909  13.207380  13.471890  13.221693  13.314391  ...                0   \n",
       "3910  14.173025  14.205150  14.154766  14.456927  ...                0   \n",
       "3911  13.612146  13.882917  14.146743  14.460718  ...                0   \n",
       "3912  13.123058  13.411304  13.479893  12.886742  ...                0   \n",
       "3913  16.356790  16.357408  16.437476  16.629294  ...                0   \n",
       "\n",
       "      Mismatch repair  Stomach specific  Mitochondrion  Cytoplasm  \\\n",
       "0                   0                 0              1          1   \n",
       "1                   0                 0              0          1   \n",
       "2                   0                 0              0          0   \n",
       "3                   0                 0              0          1   \n",
       "4                   0                 0              0          1   \n",
       "...               ...               ...            ...        ...   \n",
       "3909                0                 0              0          1   \n",
       "3910                0                 0              0          0   \n",
       "3911                0                 0              0          1   \n",
       "3912                0                 0              0          0   \n",
       "3913                0                 0              0          0   \n",
       "\n",
       "      Extracellular exosome  Membrane  Nucleus  Endoplasmic reticulum  \\\n",
       "0                         1         1        1                      0   \n",
       "1                         1         0        1                      0   \n",
       "2                         1         0        0                      0   \n",
       "3                         0         0        1                      0   \n",
       "4                         1         1        1                      0   \n",
       "...                     ...       ...      ...                    ...   \n",
       "3909                      0         0        1                      0   \n",
       "3910                      0         0        0                      0   \n",
       "3911                      0         0        1                      0   \n",
       "3912                      0         0        1                      0   \n",
       "3913                      0         0        0                      0   \n",
       "\n",
       "      Golgi apparatus  \n",
       "0                   0  \n",
       "1                   0  \n",
       "2                   0  \n",
       "3                   0  \n",
       "4                   0  \n",
       "...               ...  \n",
       "3909                0  \n",
       "3910                0  \n",
       "3911                0  \n",
       "3912                0  \n",
       "3913                0  \n",
       "\n",
       "[3914 rows x 46 columns]"
      ]
     },
     "execution_count": 23,
     "metadata": {},
     "output_type": "execute_result"
    }
   ],
   "source": [
    "# load gastric dataset as dataframe\n",
    "gastric_df = pd.read_csv(file, index_col=0)\n",
    "gastric_df.reset_index(drop=True, inplace=True)\n",
    "gastric_df"
   ]
  },
  {
   "cell_type": "markdown",
   "metadata": {},
   "source": [
    "## random forest classifier (supervised learning) "
   ]
  },
  {
   "cell_type": "code",
   "execution_count": 27,
   "metadata": {},
   "outputs": [],
   "source": [
    "# common proteins in TB and sarcoidosis data\n",
    "file = 'data/processed/gran_all_ID.csv'\n",
    "gran_prot = pd.read_csv(file)\n",
    "gran_prot.reset_index(drop=True, inplace=True)"
   ]
  },
  {
   "cell_type": "markdown",
   "metadata": {},
   "source": [
    "### preparing prediction data set (gastric cancer)"
   ]
  },
  {
   "cell_type": "code",
   "execution_count": 29,
   "metadata": {},
   "outputs": [],
   "source": [
    "gastric_df['ID'] = gastric_ID\n",
    "gastric_df.to_csv('data/processed/gastric_loc_ID.csv')"
   ]
  },
  {
   "cell_type": "code",
   "execution_count": 30,
   "metadata": {},
   "outputs": [],
   "source": [
    "TB_gastric_prot = []\n",
    "\n",
    "# find index in gastric dataset that match ID in common granuloma proteins\n",
    "for i in range(len(gran_prot)):\n",
    "    ind = gastric_df.index[gastric_df['ID'] == gran_prot['ID'][i]].tolist()\n",
    "    TB_gastric_prot = TB_gastric_prot + ind"
   ]
  },
  {
   "cell_type": "code",
   "execution_count": 31,
   "metadata": {},
   "outputs": [],
   "source": [
    "# make gastric dataframe (test set) with only overlapping proteins\n",
    "g = gastric_df.iloc[TB_gastric_prot].T\n",
    "g.columns = g.iloc[-1]\n",
    "\n",
    "# delete irrelevant rows\n",
    "to_del = list(range(12,47))\n",
    "g = g.drop(g.index[to_del])"
   ]
  },
  {
   "cell_type": "markdown",
   "metadata": {},
   "source": [
    "### preparing training data set (TB/sarc)"
   ]
  },
  {
   "cell_type": "code",
   "execution_count": 32,
   "metadata": {},
   "outputs": [],
   "source": [
    "file = 'data/processed/TB_sarc_overlap.csv'\n",
    "# load granuloma dataset as dataframe\n",
    "gran_df = pd.read_csv(file)\n",
    "gran_df.reset_index(drop=True, inplace=True)"
   ]
  },
  {
   "cell_type": "code",
   "execution_count": 33,
   "metadata": {},
   "outputs": [],
   "source": [
    "# delete irrelevant data\n",
    "to_del = [0, 1, 2] + [27, 28, 29] + list(range(31,70))\n",
    "gran_df = gran_df.drop([gran_df.columns[x] for x in to_del],  axis='columns')"
   ]
  },
  {
   "cell_type": "code",
   "execution_count": 34,
   "metadata": {},
   "outputs": [],
   "source": [
    "# map protein name to ID\n",
    "gran_dict = gran_prot.set_index('Antibody target').to_dict()\n",
    "# append 'Disease' into dictionary\n",
    "gran_dict['ID']['Disease'] = 'Disease'"
   ]
  },
  {
   "cell_type": "code",
   "execution_count": 35,
   "metadata": {},
   "outputs": [],
   "source": [
    "# create new columns using ID\n",
    "new_col = []\n",
    "for c in gran_df.columns:\n",
    "    new_col.append(gran_dict['ID'][c])\n",
    "    \n",
    "gran_df.columns = new_col\n",
    "\n",
    "# only keep columns that match the gastric dataframe columns (protein IDs)\n",
    "ccol = list(g.columns) + ['Disease']\n",
    "gran_df = gran_df[ccol]\n",
    "gran_df.to_csv('data/processed/gran_protein9.csv')"
   ]
  },
  {
   "cell_type": "markdown",
   "metadata": {},
   "source": [
    "### splitting dataset and training model"
   ]
  },
  {
   "cell_type": "code",
   "execution_count": 19,
   "metadata": {},
   "outputs": [],
   "source": [
    "# split TB/sarcoidosis model \n",
    "X_train, X_test, y_train, y_test = train_test_split(gran_df.loc[:, gran_df.columns != 'Disease'], \n",
    "                                                         gran_df.Disease, test_size=0.1, random_state = 8,\n",
    "                                                         stratify = gran_df.Disease)"
   ]
  },
  {
   "cell_type": "code",
   "execution_count": 20,
   "metadata": {},
   "outputs": [],
   "source": [
    "# create random forest classifier, fit to training, and predict classification on testing \n",
    "clf = RandomForestClassifier(bootstrap=True);\n",
    "clf.fit(X_train, y_train);"
   ]
  },
  {
   "cell_type": "code",
   "execution_count": 21,
   "metadata": {},
   "outputs": [
    {
     "name": "stdout",
     "output_type": "stream",
     "text": [
      "0.998804663650741 0.8254033926354986\n"
     ]
    }
   ],
   "source": [
    "# accuracy score\n",
    "print(clf.score(X_train, y_train), clf.score(X_test, y_test))"
   ]
  },
  {
   "cell_type": "markdown",
   "metadata": {},
   "source": [
    "#### improving RandomForestClassifier"
   ]
  },
  {
   "cell_type": "code",
   "execution_count": 70,
   "metadata": {},
   "outputs": [],
   "source": [
    "# random grid search\n",
    "param_grid = {\n",
    "    'bootstrap': [True],\n",
    "    'max_depth': [10, 20, 30],\n",
    "    'max_features': ['auto', 'log2'],\n",
    "    'n_estimators': [200, 300, 400]\n",
    "}"
   ]
  },
  {
   "cell_type": "code",
   "execution_count": 71,
   "metadata": {},
   "outputs": [
    {
     "name": "stdout",
     "output_type": "stream",
     "text": [
      "Fitting 3 folds for each of 18 candidates, totalling 54 fits\n"
     ]
    },
    {
     "data": {
      "text/plain": [
       "{'bootstrap': True,\n",
       " 'max_depth': 20,\n",
       " 'max_features': 'auto',\n",
       " 'n_estimators': 400}"
      ]
     },
     "execution_count": 71,
     "metadata": {},
     "output_type": "execute_result"
    }
   ],
   "source": [
    "# grid search of parameters, using 3 fold cross validation\n",
    "rf_search = GridSearchCV(estimator = clf, param_grid = param_grid, \n",
    "                          cv = 3, n_jobs = -1, verbose = 2)\n",
    "\n",
    "rf_search.fit(X_train, y_train);\n",
    "rf_search.best_params_"
   ]
  },
  {
   "cell_type": "code",
   "execution_count": 72,
   "metadata": {},
   "outputs": [
    {
     "data": {
      "text/plain": [
       "0.8337608605709558"
      ]
     },
     "execution_count": 72,
     "metadata": {},
     "output_type": "execute_result"
    }
   ],
   "source": [
    "# accuracy score\n",
    "rf_search.score(X_test, y_test)"
   ]
  },
  {
   "cell_type": "markdown",
   "metadata": {},
   "source": [
    "### feature importance "
   ]
  },
  {
   "cell_type": "code",
   "execution_count": 75,
   "metadata": {},
   "outputs": [
    {
     "data": {
      "text/html": [
       "<div>\n",
       "<style scoped>\n",
       "    .dataframe tbody tr th:only-of-type {\n",
       "        vertical-align: middle;\n",
       "    }\n",
       "\n",
       "    .dataframe tbody tr th {\n",
       "        vertical-align: top;\n",
       "    }\n",
       "\n",
       "    .dataframe thead th {\n",
       "        text-align: right;\n",
       "    }\n",
       "</style>\n",
       "<table border=\"1\" class=\"dataframe\">\n",
       "  <thead>\n",
       "    <tr style=\"text-align: right;\">\n",
       "      <th></th>\n",
       "      <th>Gini importance</th>\n",
       "    </tr>\n",
       "  </thead>\n",
       "  <tbody>\n",
       "    <tr>\n",
       "      <th>P08670</th>\n",
       "      <td>0.187363</td>\n",
       "    </tr>\n",
       "    <tr>\n",
       "      <th>P08571</th>\n",
       "      <td>0.171742</td>\n",
       "    </tr>\n",
       "    <tr>\n",
       "      <th>P16284</th>\n",
       "      <td>0.031215</td>\n",
       "    </tr>\n",
       "    <tr>\n",
       "      <th>P20702</th>\n",
       "      <td>0.167353</td>\n",
       "    </tr>\n",
       "    <tr>\n",
       "      <th>Q86VB7</th>\n",
       "      <td>0.041810</td>\n",
       "    </tr>\n",
       "    <tr>\n",
       "      <th>P11215</th>\n",
       "      <td>0.136615</td>\n",
       "    </tr>\n",
       "    <tr>\n",
       "      <th>P08575</th>\n",
       "      <td>0.156742</td>\n",
       "    </tr>\n",
       "    <tr>\n",
       "      <th>P35908</th>\n",
       "      <td>0.025617</td>\n",
       "    </tr>\n",
       "    <tr>\n",
       "      <th>P46013</th>\n",
       "      <td>0.081543</td>\n",
       "    </tr>\n",
       "  </tbody>\n",
       "</table>\n",
       "</div>"
      ],
      "text/plain": [
       "        Gini importance\n",
       "P08670         0.187363\n",
       "P08571         0.171742\n",
       "P16284         0.031215\n",
       "P20702         0.167353\n",
       "Q86VB7         0.041810\n",
       "P11215         0.136615\n",
       "P08575         0.156742\n",
       "P35908         0.025617\n",
       "P46013         0.081543"
      ]
     },
     "execution_count": 75,
     "metadata": {},
     "output_type": "execute_result"
    }
   ],
   "source": [
    "# Gini importance of each feature\n",
    "feat_import = rf_search.best_estimator_.feature_importances_\n",
    "gran_feat_df = pd.DataFrame({'Gini importance': feat_import}, index=X_train.columns)\n",
    "gran_feat_df"
   ]
  },
  {
   "cell_type": "code",
   "execution_count": 76,
   "metadata": {},
   "outputs": [
    {
     "name": "stdout",
     "output_type": "stream",
     "text": [
      "P08670\n",
      "P08571\n",
      "P20702\n"
     ]
    }
   ],
   "source": [
    "# sort feature indices based on importance to extract top two features\n",
    "sort_index = np.argsort(feat_import)\n",
    "\n",
    "top_feat = gran_df.columns[sort_index[-1]]\n",
    "sec_feat = gran_df.columns[sort_index[-2]]\n",
    "third_feat = gran_df.columns[sort_index[-3]]\n",
    "print(top_feat)\n",
    "print(sec_feat)\n",
    "print(third_feat)"
   ]
  },
  {
   "cell_type": "code",
   "execution_count": 77,
   "metadata": {},
   "outputs": [
    {
     "data": {
      "image/png": "[encoded data removed]",
      "text/plain": [
       "<Figure size 432x288 with 1 Axes>"
      ]
     },
     "metadata": {
      "needs_background": "light"
     },
     "output_type": "display_data"
    }
   ],
   "source": [
    "# plot each tumor type label in different color for top important features from random forest classifier\n",
    "fig = plt.figure()\n",
    "ax = fig.add_subplot(1,1,1)\n",
    "ax.set_xlabel(top_feat)\n",
    "ax.set_ylabel(sec_feat)\n",
    "targets = [0,1]\n",
    "colors = ['r', 'b']\n",
    "\n",
    "for target, color in zip(targets,colors):\n",
    "    ind = gran_df['Disease'] == target\n",
    "    ax.scatter(gran_df.loc[ind, top_feat]\n",
    "               , gran_df.loc[ind, sec_feat]\n",
    "               , c = color, alpha=0.1, s=1);\n",
    "    \n",
    "ax.legend(['Sarcoidosis', 'TB']);\n",
    "fig.savefig('figures/gran_top2_forest.png')"
   ]
  },
  {
   "cell_type": "markdown",
   "metadata": {},
   "source": [
    "### predicting gastric data"
   ]
  },
  {
   "cell_type": "code",
   "execution_count": 73,
   "metadata": {},
   "outputs": [
    {
     "data": {
      "text/plain": [
       "array([1, 1, 1, 1, 1, 1, 1, 1, 1, 1, 1, 1], dtype=int64)"
      ]
     },
     "execution_count": 73,
     "metadata": {},
     "output_type": "execute_result"
    }
   ],
   "source": [
    "# classify gastric diseases with random forest classifier \n",
    "clf_gastric_pred = rf_search.predict(g)\n",
    "clf_gastric_pred"
   ]
  }
 ],
 "metadata": {
  "kernelspec": {
   "display_name": "Python 3",
   "language": "python",
   "name": "python3"
  },
  "language_info": {
   "codemirror_mode": {
    "name": "ipython",
    "version": 3
   },
   "file_extension": ".py",
   "mimetype": "text/x-python",
   "name": "python",
   "nbconvert_exporter": "python",
   "pygments_lexer": "ipython3",
   "version": "3.8.3"
  }
 },
 "nbformat": 4,
 "nbformat_minor": 4
}
