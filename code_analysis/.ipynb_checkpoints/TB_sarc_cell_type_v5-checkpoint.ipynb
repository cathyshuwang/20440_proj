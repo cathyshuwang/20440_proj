{
 "cells": [
  {
   "cell_type": "code",
   "execution_count": 1,
   "metadata": {},
   "outputs": [],
   "source": [
    "import pandas as pd \n",
    "import numpy as np\n",
    "import seaborn as sns\n",
    "from matplotlib import pyplot as plt\n",
    "from matplotlib.pyplot import cm\n",
    "from matplotlib.lines import Line2D\n",
    "# from IPython.display import display\n",
    "\n",
    "from sklearn.preprocessing import StandardScaler \n",
    "from sklearn.preprocessing import RobustScaler\n",
    "from sklearn.decomposition import PCA \n",
    "from sklearn.cluster import KMeans\n",
    "from sklearn import metrics\n",
    "from sklearn.metrics import silhouette_samples, silhouette_score\n",
    "from sklearn.datasets import fetch_openml \n",
    "\n",
    "from sklearn.metrics import pairwise_distances\n",
    "from scipy.spatial.distance import squareform\n",
    "from sklearn.manifold import TSNE"
   ]
  },
  {
   "cell_type": "code",
   "execution_count": 20,
   "metadata": {},
   "outputs": [
    {
     "data": {
      "text/plain": [
       "'C:\\\\Users\\\\cathy\\\\2021 20.440\\\\proj_git\\\\data\\\\processed'"
      ]
     },
     "execution_count": 20,
     "metadata": {},
     "output_type": "execute_result"
    }
   ],
   "source": [
    "# import os\n",
    "# # os.path.normpath(os.getcwd() + os.sep + os.pardir)\n",
    "# data_path = os.path.normpath(os.getcwd() + os.sep + os.pardir) + '\\\\data\\\\processed'\n",
    "# data_path"
   ]
  },
  {
   "cell_type": "code",
   "execution_count": 2,
   "metadata": {},
   "outputs": [],
   "source": [
    "sns.set(rc={'figure.figsize':(11.7,8.27)})"
   ]
  },
  {
   "cell_type": "code",
   "execution_count": 21,
   "metadata": {},
   "outputs": [
    {
     "ename": "FileNotFoundError",
     "evalue": "[Errno 2] No such file or directory: 'C:\\\\Users\\\\cathy\\\\2021 20.440\\\\proj_git\\\\data\\\\processedTB_sarc_overlap_nodum.csv'",
     "output_type": "error",
     "traceback": [
      "\u001b[1;31m---------------------------------------------------------------------------\u001b[0m",
      "\u001b[1;31mFileNotFoundError\u001b[0m                         Traceback (most recent call last)",
      "\u001b[1;32m<ipython-input-21-af619213ca80>\u001b[0m in \u001b[0;36m<module>\u001b[1;34m\u001b[0m\n\u001b[0;32m      2\u001b[0m \u001b[1;33m\u001b[0m\u001b[0m\n\u001b[0;32m      3\u001b[0m \u001b[0mfile\u001b[0m \u001b[1;33m=\u001b[0m \u001b[0mdata_path\u001b[0m \u001b[1;33m+\u001b[0m \u001b[1;34m'TB_sarc_overlap_nodum.csv'\u001b[0m\u001b[1;33m\u001b[0m\u001b[1;33m\u001b[0m\u001b[0m\n\u001b[1;32m----> 4\u001b[1;33m \u001b[0mTB_sarc_df\u001b[0m \u001b[1;33m=\u001b[0m \u001b[0mpd\u001b[0m\u001b[1;33m.\u001b[0m\u001b[0mread_csv\u001b[0m\u001b[1;33m(\u001b[0m\u001b[0mfile\u001b[0m\u001b[1;33m)\u001b[0m\u001b[1;33m\u001b[0m\u001b[1;33m\u001b[0m\u001b[0m\n\u001b[0m\u001b[0;32m      5\u001b[0m \u001b[1;33m\u001b[0m\u001b[0m\n\u001b[0;32m      6\u001b[0m \u001b[1;31m#Disease column\u001b[0m\u001b[1;33m\u001b[0m\u001b[1;33m\u001b[0m\u001b[1;33m\u001b[0m\u001b[0m\n",
      "\u001b[1;32mc:\\python38\\lib\\site-packages\\pandas\\io\\parsers.py\u001b[0m in \u001b[0;36mread_csv\u001b[1;34m(filepath_or_buffer, sep, delimiter, header, names, index_col, usecols, squeeze, prefix, mangle_dupe_cols, dtype, engine, converters, true_values, false_values, skipinitialspace, skiprows, skipfooter, nrows, na_values, keep_default_na, na_filter, verbose, skip_blank_lines, parse_dates, infer_datetime_format, keep_date_col, date_parser, dayfirst, cache_dates, iterator, chunksize, compression, thousands, decimal, lineterminator, quotechar, quoting, doublequote, escapechar, comment, encoding, dialect, error_bad_lines, warn_bad_lines, delim_whitespace, low_memory, memory_map, float_precision)\u001b[0m\n\u001b[0;32m    684\u001b[0m     )\n\u001b[0;32m    685\u001b[0m \u001b[1;33m\u001b[0m\u001b[0m\n\u001b[1;32m--> 686\u001b[1;33m     \u001b[1;32mreturn\u001b[0m \u001b[0m_read\u001b[0m\u001b[1;33m(\u001b[0m\u001b[0mfilepath_or_buffer\u001b[0m\u001b[1;33m,\u001b[0m \u001b[0mkwds\u001b[0m\u001b[1;33m)\u001b[0m\u001b[1;33m\u001b[0m\u001b[1;33m\u001b[0m\u001b[0m\n\u001b[0m\u001b[0;32m    687\u001b[0m \u001b[1;33m\u001b[0m\u001b[0m\n\u001b[0;32m    688\u001b[0m \u001b[1;33m\u001b[0m\u001b[0m\n",
      "\u001b[1;32mc:\\python38\\lib\\site-packages\\pandas\\io\\parsers.py\u001b[0m in \u001b[0;36m_read\u001b[1;34m(filepath_or_buffer, kwds)\u001b[0m\n\u001b[0;32m    450\u001b[0m \u001b[1;33m\u001b[0m\u001b[0m\n\u001b[0;32m    451\u001b[0m     \u001b[1;31m# Create the parser.\u001b[0m\u001b[1;33m\u001b[0m\u001b[1;33m\u001b[0m\u001b[1;33m\u001b[0m\u001b[0m\n\u001b[1;32m--> 452\u001b[1;33m     \u001b[0mparser\u001b[0m \u001b[1;33m=\u001b[0m \u001b[0mTextFileReader\u001b[0m\u001b[1;33m(\u001b[0m\u001b[0mfp_or_buf\u001b[0m\u001b[1;33m,\u001b[0m \u001b[1;33m**\u001b[0m\u001b[0mkwds\u001b[0m\u001b[1;33m)\u001b[0m\u001b[1;33m\u001b[0m\u001b[1;33m\u001b[0m\u001b[0m\n\u001b[0m\u001b[0;32m    453\u001b[0m \u001b[1;33m\u001b[0m\u001b[0m\n\u001b[0;32m    454\u001b[0m     \u001b[1;32mif\u001b[0m \u001b[0mchunksize\u001b[0m \u001b[1;32mor\u001b[0m \u001b[0miterator\u001b[0m\u001b[1;33m:\u001b[0m\u001b[1;33m\u001b[0m\u001b[1;33m\u001b[0m\u001b[0m\n",
      "\u001b[1;32mc:\\python38\\lib\\site-packages\\pandas\\io\\parsers.py\u001b[0m in \u001b[0;36m__init__\u001b[1;34m(self, f, engine, **kwds)\u001b[0m\n\u001b[0;32m    934\u001b[0m             \u001b[0mself\u001b[0m\u001b[1;33m.\u001b[0m\u001b[0moptions\u001b[0m\u001b[1;33m[\u001b[0m\u001b[1;34m\"has_index_names\"\u001b[0m\u001b[1;33m]\u001b[0m \u001b[1;33m=\u001b[0m \u001b[0mkwds\u001b[0m\u001b[1;33m[\u001b[0m\u001b[1;34m\"has_index_names\"\u001b[0m\u001b[1;33m]\u001b[0m\u001b[1;33m\u001b[0m\u001b[1;33m\u001b[0m\u001b[0m\n\u001b[0;32m    935\u001b[0m \u001b[1;33m\u001b[0m\u001b[0m\n\u001b[1;32m--> 936\u001b[1;33m         \u001b[0mself\u001b[0m\u001b[1;33m.\u001b[0m\u001b[0m_make_engine\u001b[0m\u001b[1;33m(\u001b[0m\u001b[0mself\u001b[0m\u001b[1;33m.\u001b[0m\u001b[0mengine\u001b[0m\u001b[1;33m)\u001b[0m\u001b[1;33m\u001b[0m\u001b[1;33m\u001b[0m\u001b[0m\n\u001b[0m\u001b[0;32m    937\u001b[0m \u001b[1;33m\u001b[0m\u001b[0m\n\u001b[0;32m    938\u001b[0m     \u001b[1;32mdef\u001b[0m \u001b[0mclose\u001b[0m\u001b[1;33m(\u001b[0m\u001b[0mself\u001b[0m\u001b[1;33m)\u001b[0m\u001b[1;33m:\u001b[0m\u001b[1;33m\u001b[0m\u001b[1;33m\u001b[0m\u001b[0m\n",
      "\u001b[1;32mc:\\python38\\lib\\site-packages\\pandas\\io\\parsers.py\u001b[0m in \u001b[0;36m_make_engine\u001b[1;34m(self, engine)\u001b[0m\n\u001b[0;32m   1166\u001b[0m     \u001b[1;32mdef\u001b[0m \u001b[0m_make_engine\u001b[0m\u001b[1;33m(\u001b[0m\u001b[0mself\u001b[0m\u001b[1;33m,\u001b[0m \u001b[0mengine\u001b[0m\u001b[1;33m=\u001b[0m\u001b[1;34m\"c\"\u001b[0m\u001b[1;33m)\u001b[0m\u001b[1;33m:\u001b[0m\u001b[1;33m\u001b[0m\u001b[1;33m\u001b[0m\u001b[0m\n\u001b[0;32m   1167\u001b[0m         \u001b[1;32mif\u001b[0m \u001b[0mengine\u001b[0m \u001b[1;33m==\u001b[0m \u001b[1;34m\"c\"\u001b[0m\u001b[1;33m:\u001b[0m\u001b[1;33m\u001b[0m\u001b[1;33m\u001b[0m\u001b[0m\n\u001b[1;32m-> 1168\u001b[1;33m             \u001b[0mself\u001b[0m\u001b[1;33m.\u001b[0m\u001b[0m_engine\u001b[0m \u001b[1;33m=\u001b[0m \u001b[0mCParserWrapper\u001b[0m\u001b[1;33m(\u001b[0m\u001b[0mself\u001b[0m\u001b[1;33m.\u001b[0m\u001b[0mf\u001b[0m\u001b[1;33m,\u001b[0m \u001b[1;33m**\u001b[0m\u001b[0mself\u001b[0m\u001b[1;33m.\u001b[0m\u001b[0moptions\u001b[0m\u001b[1;33m)\u001b[0m\u001b[1;33m\u001b[0m\u001b[1;33m\u001b[0m\u001b[0m\n\u001b[0m\u001b[0;32m   1169\u001b[0m         \u001b[1;32melse\u001b[0m\u001b[1;33m:\u001b[0m\u001b[1;33m\u001b[0m\u001b[1;33m\u001b[0m\u001b[0m\n\u001b[0;32m   1170\u001b[0m             \u001b[1;32mif\u001b[0m \u001b[0mengine\u001b[0m \u001b[1;33m==\u001b[0m \u001b[1;34m\"python\"\u001b[0m\u001b[1;33m:\u001b[0m\u001b[1;33m\u001b[0m\u001b[1;33m\u001b[0m\u001b[0m\n",
      "\u001b[1;32mc:\\python38\\lib\\site-packages\\pandas\\io\\parsers.py\u001b[0m in \u001b[0;36m__init__\u001b[1;34m(self, src, **kwds)\u001b[0m\n\u001b[0;32m   1996\u001b[0m         \u001b[0mkwds\u001b[0m\u001b[1;33m[\u001b[0m\u001b[1;34m\"usecols\"\u001b[0m\u001b[1;33m]\u001b[0m \u001b[1;33m=\u001b[0m \u001b[0mself\u001b[0m\u001b[1;33m.\u001b[0m\u001b[0musecols\u001b[0m\u001b[1;33m\u001b[0m\u001b[1;33m\u001b[0m\u001b[0m\n\u001b[0;32m   1997\u001b[0m \u001b[1;33m\u001b[0m\u001b[0m\n\u001b[1;32m-> 1998\u001b[1;33m         \u001b[0mself\u001b[0m\u001b[1;33m.\u001b[0m\u001b[0m_reader\u001b[0m \u001b[1;33m=\u001b[0m \u001b[0mparsers\u001b[0m\u001b[1;33m.\u001b[0m\u001b[0mTextReader\u001b[0m\u001b[1;33m(\u001b[0m\u001b[0msrc\u001b[0m\u001b[1;33m,\u001b[0m \u001b[1;33m**\u001b[0m\u001b[0mkwds\u001b[0m\u001b[1;33m)\u001b[0m\u001b[1;33m\u001b[0m\u001b[1;33m\u001b[0m\u001b[0m\n\u001b[0m\u001b[0;32m   1999\u001b[0m         \u001b[0mself\u001b[0m\u001b[1;33m.\u001b[0m\u001b[0munnamed_cols\u001b[0m \u001b[1;33m=\u001b[0m \u001b[0mself\u001b[0m\u001b[1;33m.\u001b[0m\u001b[0m_reader\u001b[0m\u001b[1;33m.\u001b[0m\u001b[0munnamed_cols\u001b[0m\u001b[1;33m\u001b[0m\u001b[1;33m\u001b[0m\u001b[0m\n\u001b[0;32m   2000\u001b[0m \u001b[1;33m\u001b[0m\u001b[0m\n",
      "\u001b[1;32mpandas\\_libs\\parsers.pyx\u001b[0m in \u001b[0;36mpandas._libs.parsers.TextReader.__cinit__\u001b[1;34m()\u001b[0m\n",
      "\u001b[1;32mpandas\\_libs\\parsers.pyx\u001b[0m in \u001b[0;36mpandas._libs.parsers.TextReader._setup_parser_source\u001b[1;34m()\u001b[0m\n",
      "\u001b[1;31mFileNotFoundError\u001b[0m: [Errno 2] No such file or directory: 'C:\\\\Users\\\\cathy\\\\2021 20.440\\\\proj_git\\\\data\\\\processedTB_sarc_overlap_nodum.csv'"
     ]
    }
   ],
   "source": [
    "#import data \n",
    "\n",
    "file = data_path + 'TB_sarc_overlap_nodum.csv'\n",
    "TB_sarc_df = pd.read_csv(file)\n",
    "\n",
    "#Disease column \n",
    "# 0 = sarcoidosis \n",
    "# 1 = Tuberculosis\n",
    "\n",
    "df_TB_sarc = TB_sarc_df.iloc[:,3:35]\n",
    "df_TBsarc = df_TB_sarc.drop('Tissue', axis = 1)\n",
    "df_TBsarc = df_TBsarc.drop('lineage', axis = 1)\n",
    "df_TBsarc = df_TBsarc.drop('cell_lin', axis = 1)\n",
    "\n",
    "\n",
    "Bcell_df = pd.read_csv('data/processed/B_cellsv1.csv')\n",
    "Endo_df = pd.read_csv('data/processed/Endothelial_cellsv1.csv')\n",
    "macro_df = pd.read_csv('data/processed/Macrophagesv1.csv')\n",
    "mono_df = pd.read_csv('data/processed/Monocytesv1.csv')\n",
    "Tcell_df = pd.read_csv('data/processed/T_cellsv1.csv')"
   ]
  },
  {
   "cell_type": "code",
   "execution_count": null,
   "metadata": {},
   "outputs": [],
   "source": [
    "#Make copy of each data frame to have original as reference\n",
    "df_Bcell = Bcell_df.copy()\n",
    "df_Tcell = Tcell_df.copy()\n",
    "df_Endo = Endo_df.copy()\n",
    "df_mono = mono_df.copy()\n",
    "df_macro = macro_df.copy()"
   ]
  },
  {
   "cell_type": "code",
   "execution_count": 4,
   "metadata": {
    "scrolled": true
   },
   "outputs": [
    {
     "ename": "NameError",
     "evalue": "name 'df_Bcell' is not defined",
     "output_type": "error",
     "traceback": [
      "\u001b[1;31m---------------------------------------------------------------------------\u001b[0m",
      "\u001b[1;31mNameError\u001b[0m                                 Traceback (most recent call last)",
      "\u001b[1;32m<ipython-input-4-7a572000922b>\u001b[0m in \u001b[0;36m<module>\u001b[1;34m\u001b[0m\n\u001b[0;32m      1\u001b[0m \u001b[1;31m#Drop columns without protein abundance data in prepartion for tsne\u001b[0m\u001b[1;33m\u001b[0m\u001b[1;33m\u001b[0m\u001b[1;33m\u001b[0m\u001b[0m\n\u001b[1;32m----> 2\u001b[1;33m \u001b[0mdf_Bcell\u001b[0m\u001b[1;33m.\u001b[0m\u001b[0mdrop\u001b[0m\u001b[1;33m(\u001b[0m\u001b[1;34m'Disease'\u001b[0m\u001b[1;33m,\u001b[0m \u001b[0maxis\u001b[0m\u001b[1;33m=\u001b[0m\u001b[1;36m1\u001b[0m\u001b[1;33m)\u001b[0m\u001b[1;33m\u001b[0m\u001b[1;33m\u001b[0m\u001b[0m\n\u001b[0m\u001b[0;32m      3\u001b[0m \u001b[1;33m\u001b[0m\u001b[0m\n\u001b[0;32m      4\u001b[0m \u001b[0mdf_Tcell_num\u001b[0m \u001b[1;33m=\u001b[0m \u001b[0mdf_Tcell\u001b[0m\u001b[1;33m.\u001b[0m\u001b[0mdrop\u001b[0m\u001b[1;33m(\u001b[0m\u001b[1;34m'Disease'\u001b[0m\u001b[1;33m,\u001b[0m \u001b[0maxis\u001b[0m \u001b[1;33m=\u001b[0m \u001b[1;36m1\u001b[0m\u001b[1;33m)\u001b[0m\u001b[1;33m\u001b[0m\u001b[1;33m\u001b[0m\u001b[0m\n\u001b[0;32m      5\u001b[0m \u001b[0mdf_Tcell_num\u001b[0m \u001b[1;33m=\u001b[0m \u001b[0mdf_Tcell_num\u001b[0m\u001b[1;33m.\u001b[0m\u001b[0mdrop\u001b[0m\u001b[1;33m(\u001b[0m\u001b[1;34m'cell_type'\u001b[0m\u001b[1;33m,\u001b[0m \u001b[0maxis\u001b[0m \u001b[1;33m=\u001b[0m \u001b[1;36m1\u001b[0m\u001b[1;33m)\u001b[0m\u001b[1;33m\u001b[0m\u001b[1;33m\u001b[0m\u001b[0m\n",
      "\u001b[1;31mNameError\u001b[0m: name 'df_Bcell' is not defined"
     ]
    }
   ],
   "source": [
    "#Drop columns without protein abundance data in prepartion for tsne\n",
    "df_Bcell.drop('Disease', axis=1)\n",
    "\n",
    "df_Tcell_num = df_Tcell.drop('Disease', axis = 1)\n",
    "df_Tcell_num = df_Tcell_num.drop('cell_type', axis = 1)\n",
    "\n",
    "df_Endo_num = df_Endo.drop('Disease', axis = 1)\n",
    "#df_Endo_num = df_Endo_num.drop('cell_type', axis = 1)\n",
    "\n",
    "df_mono_num = df_mono.drop('Disease', axis = 1)\n",
    "df_mono_num = df_mono_num.drop('cell_type', axis = 1)\n",
    "\n",
    "\n",
    "df_macro_num = df_macro.drop('Disease', axis = 1)\n",
    "df_macro_num = df_macro_num.drop('cell_type', axis = 1)"
   ]
  },
  {
   "cell_type": "code",
   "execution_count": null,
   "metadata": {},
   "outputs": [],
   "source": [
    "display(df_mono_num)"
   ]
  },
  {
   "cell_type": "code",
   "execution_count": null,
   "metadata": {
    "scrolled": true
   },
   "outputs": [],
   "source": [
    "#tsne - B cells\n",
    "#default tsne settings used for all cell types: \n",
    "#2 components and 30 perplexity\n",
    "\n",
    "tsne = TSNE()\n",
    "\n",
    "B_cell_tsne = tsne.fit_transform(df_Bcell)"
   ]
  },
  {
   "cell_type": "code",
   "execution_count": null,
   "metadata": {
    "scrolled": false
   },
   "outputs": [],
   "source": [
    "#plot B cell tsne with disease annotations\n",
    "disease_bcell = Bcell_df['Disease']\n",
    "\n",
    "\n",
    "ax = sns.scatterplot(B_cell_tsne[:,0], B_cell_tsne[:,1], hue=disease_bcell)\n",
    "\n",
    "custom = [Line2D([], [], marker='.', color='blue', linestyle='None'),\n",
    "          Line2D([], [], marker='.', color='orange', linestyle='None')]\n",
    "\n",
    "ax.legend(custom, ['Sarcoidosis', 'Tuberculosis'], loc='lower right')\n",
    "\n",
    "plt.xlabel('t-SNE 1', fontsize = 18)\n",
    "plt.ylabel('t-SNE 2', fontsize = 18)\n",
    "plt.title('B cells', fontsize = 28)\n",
    "plt.savefig('B_cell_tSNE.png')"
   ]
  },
  {
   "cell_type": "code",
   "execution_count": null,
   "metadata": {},
   "outputs": [],
   "source": [
    "# np.savetxt(\"Bcell_tsne_v3\", B_cell_tsne, delimiter=\",\")"
   ]
  },
  {
   "cell_type": "code",
   "execution_count": null,
   "metadata": {},
   "outputs": [],
   "source": [
    "#tsne - T cells\n",
    "#default tsne settings used for all cell types: \n",
    "#2 components and 30 perplexity\n",
    "\n",
    "tsne = TSNE()\n",
    "\n",
    "T_cell_tsne = tsne.fit_transform(df_Tcell_num)"
   ]
  },
  {
   "cell_type": "code",
   "execution_count": null,
   "metadata": {},
   "outputs": [],
   "source": [
    "#plot T cell tsne with disease annotations\n",
    "\n",
    "disease_tcell = Tcell_df['Disease']\n",
    "\n",
    "\n",
    "ax = sns.scatterplot(T_cell_tsne[:,0], T_cell_tsne[:,1],alpha = 0.4, hue=disease_tcell)\n",
    "\n",
    "custom = [Line2D([], [], marker='.', color='blue', linestyle='None'),\n",
    "          Line2D([], [], marker='.', color='orange', linestyle='None')]\n",
    "\n",
    "ax.legend(custom, ['Sarcoidosis', 'Tuberculosis'], loc='lower right')\n",
    "\n",
    "plt.xlabel('t-SNE 1', fontsize = 18)\n",
    "plt.ylabel('t-SNE 2', fontsize = 18)\n",
    "plt.title('T cells', fontsize=28)\n",
    "plt.savefig('T_cell_tsne.png')"
   ]
  },
  {
   "cell_type": "code",
   "execution_count": null,
   "metadata": {},
   "outputs": [],
   "source": [
    "# np.savetxt(\"Tcell_tsne_v3\", T_cell_tsne, delimiter=\",\")"
   ]
  },
  {
   "cell_type": "code",
   "execution_count": null,
   "metadata": {},
   "outputs": [],
   "source": [
    "#tsne - Endothelial cells\n",
    "\n",
    "tsne = TSNE()\n",
    "\n",
    "Endo_tsne = tsne.fit_transform(df_Endo_num)"
   ]
  },
  {
   "cell_type": "code",
   "execution_count": null,
   "metadata": {
    "scrolled": false
   },
   "outputs": [],
   "source": [
    "#plot of endothelial cell tsne with disease annotations\n",
    "\n",
    "disease_endo_cell = Endo_df['Disease']\n",
    "\n",
    "ax = sns.scatterplot(Endo_tsne[:,0], Endo_tsne[:,1],alpha = 0.7, hue=disease_endo_cell) \n",
    "\n",
    "custom = [Line2D([], [], marker='.', color='blue', linestyle='None'),\n",
    "          Line2D([], [], marker='.', color='orange', linestyle='None')]\n",
    "\n",
    "ax.legend(custom, ['Sarcoidosis', 'Tuberculosis'], loc='lower right')\n",
    "\n",
    "plt.xlabel('t-SNE 1', fontsize =18)\n",
    "plt.ylabel('t-SNE 2', fontsize=18)\n",
    "plt.title('Endothelial cells', fontsize=28)\n",
    "plt.savefig('Endothelial_cell_tsne.png')"
   ]
  },
  {
   "cell_type": "code",
   "execution_count": null,
   "metadata": {},
   "outputs": [],
   "source": [
    "# np.savetxt(\"endo_cell_tsne_v3\", Endo_tsne, delimiter=\",\")"
   ]
  },
  {
   "cell_type": "code",
   "execution_count": null,
   "metadata": {},
   "outputs": [],
   "source": [
    "#tsne - Moncytes\n",
    "\n",
    "tsne = TSNE()\n",
    "\n",
    "mono_tsne = tsne.fit_transform(df_mono_num)"
   ]
  },
  {
   "cell_type": "code",
   "execution_count": null,
   "metadata": {},
   "outputs": [],
   "source": [
    "#Plot of monocyte tsne with disease annotations\n",
    "\n",
    "disease_mono_cell = mono_df['Disease']\n",
    "\n",
    "ax = sns.scatterplot(mono_tsne[:,0], mono_tsne[:,1],alpha=0.4, hue=disease_mono_cell)\n",
    "\n",
    "custom = [Line2D([], [], marker='.', color='blue', linestyle='None'),\n",
    "          Line2D([], [], marker='.', color='orange', linestyle='None')]\n",
    "\n",
    "ax.legend(custom, ['Sarcoidosis', 'Tuberculosis'], loc='lower right')\n",
    "\n",
    "plt.xlabel('t-SNE 1', fontsize=18)\n",
    "plt.ylabel('t-SNE 2', fontsize=18)\n",
    "plt.title('Monocytes', fontsize=28)\n",
    "plt.savefig('monocyte_tsne.png')"
   ]
  },
  {
   "cell_type": "code",
   "execution_count": null,
   "metadata": {},
   "outputs": [],
   "source": [
    "# np.savetxt(\"mono_tsne_v3\", mono_tsne, delimiter=\",\")"
   ]
  },
  {
   "cell_type": "code",
   "execution_count": null,
   "metadata": {},
   "outputs": [],
   "source": [
    "#tsne - Macrophages\n",
    "\n",
    "tsne = TSNE()\n",
    "\n",
    "macro_tsne = tsne.fit_transform(df_macro_num)"
   ]
  },
  {
   "cell_type": "code",
   "execution_count": null,
   "metadata": {},
   "outputs": [],
   "source": [
    "#plot of macrophage tsne with disease annotation\n",
    "\n",
    "disease_macro_cell = macro_df['Disease']\n",
    "\n",
    "ax = sns.scatterplot(macro_tsne[:,0], macro_tsne[:,1],alpha=0.4, hue=disease_macro_cell) \n",
    "\n",
    "custom = [Line2D([], [], marker='.', color='blue', linestyle='None'),\n",
    "          Line2D([], [], marker='.', color='orange', linestyle='None')]\n",
    "\n",
    "ax.legend(custom, ['Sarcoidosis', 'Tuberculosis'], loc='lower right')\n",
    "\n",
    "plt.xlabel('t-SNE 1',fontsize=18)\n",
    "plt.ylabel('t-SNE 2',fontsize=18)\n",
    "plt.title('Macrophages', fontsize=28)\n",
    "plt.savefig('macrophage_tsne.png')"
   ]
  },
  {
   "cell_type": "code",
   "execution_count": null,
   "metadata": {},
   "outputs": [],
   "source": [
    "# np.savetxt(\"macro_tsne_v3\", macro_tsne, delimiter=\",\")"
   ]
  },
  {
   "cell_type": "code",
   "execution_count": null,
   "metadata": {
    "scrolled": true
   },
   "outputs": [],
   "source": [
    "#Clean up sarc and TB overlap data \n",
    "#display(TB_sarc_df)\n",
    "\n",
    "df_TB_sarc = TB_sarc_df.iloc[:,3:30]\n",
    "display(df_TB_sarc)"
   ]
  },
  {
   "cell_type": "code",
   "execution_count": null,
   "metadata": {},
   "outputs": [],
   "source": [
    "#sarc and TB tsne\n",
    "\n",
    "tsne = TSNE()\n",
    "\n",
    "TB_sarc_tsne = tsne.fit_transform(df_TB_sarc)"
   ]
  },
  {
   "cell_type": "code",
   "execution_count": null,
   "metadata": {},
   "outputs": [],
   "source": [
    "# np.savetxt(\"TB_sarc_tsne_v3\", TB_sarc_tsne, delimiter=\",\")"
   ]
  },
  {
   "cell_type": "code",
   "execution_count": null,
   "metadata": {
    "scrolled": false
   },
   "outputs": [],
   "source": [
    "#sarc and TB tsne plot \n",
    "#disease annotations\n",
    "\n",
    "TB_sarc_disease = TB_sarc_df['Disease']\n",
    "\n",
    "ax = sns.scatterplot(TB_sarc_tsne[:,0], TB_sarc_tsne[:,1], alpha=0.4,hue=TB_sarc_disease) \n",
    "\n",
    "custom = [Line2D([], [], marker='.', color='blue', linestyle='None'),\n",
    "          Line2D([], [], marker='.', color='orange', linestyle='None')]\n",
    "\n",
    "ax.legend(custom, ['Sarcoidosis', 'Tuberculosis'], loc='lower right')\n",
    "\n",
    "plt.xlabel('t-SNE 1', fontsize=18)\n",
    "plt.ylabel('t-SNE 2', fontsize=18)\n",
    "plt.title('All Cell Types', fontsize=28) \n",
    "plt.savefig('all_cell_types_tsne.png')"
   ]
  },
  {
   "cell_type": "code",
   "execution_count": null,
   "metadata": {},
   "outputs": [],
   "source": [
    "#scattplot of tnse data to color by sample ID in case there is a patient dependency in data \n",
    "\n",
    "TBsarc_sampleID = TB_sarc_df['SampleID']\n",
    "\n",
    "sns.scatterplot(TB_sarc_tsne[:,0], TB_sarc_tsne[:,1],alpha=0.4, hue=TBsarc_sampleID) \n",
    "\n",
    "plt.xlabel('t-SNE 1', fontsize=18)\n",
    "plt.ylabel('t-SNE 2', fontsize=18)\n",
    "plt.title('t-SNE for protein signatures in TB and Sarcoidosis - by sample ID', fontsize=20)\n",
    "plt.savefig('sample_id_tsne.png')"
   ]
  }
 ],
 "metadata": {
  "kernelspec": {
   "display_name": "Python 3",
   "language": "python",
   "name": "python3"
  },
  "language_info": {
   "codemirror_mode": {
    "name": "ipython",
    "version": 3
   },
   "file_extension": ".py",
   "mimetype": "text/x-python",
   "name": "python",
   "nbconvert_exporter": "python",
   "pygments_lexer": "ipython3",
   "version": "3.8.3"
  }
 },
 "nbformat": 4,
 "nbformat_minor": 2
}
